{
 "cells": [
  {
   "cell_type": "code",
   "execution_count": 5,
   "metadata": {},
   "outputs": [
    {
     "name": "stdout",
     "output_type": "stream",
     "text": [
      "['sampleSubmission.csv', 'test.csv', 'train.csv']\n"
     ]
    }
   ],
   "source": [
    "import numpy as np\n",
    "import pandas as pd\n",
    "import seaborn as sns\n",
    "import matplotlib.pyplot as plt\n",
    "from datetime import datetime\n",
    "\n",
    "import os\n",
    "print(os.listdir(\"../input\"))"
   ]
  },
  {
   "cell_type": "code",
   "execution_count": 6,
   "metadata": {},
   "outputs": [],
   "source": [
    "train = pd.read_csv('../input/train.csv')\n",
    "test = pd.read_csv('../input/test.csv')"
   ]
  },
  {
   "cell_type": "code",
   "execution_count": 16,
   "metadata": {},
   "outputs": [
    {
     "name": "stdout",
     "output_type": "stream",
     "text": [
      "              datetime  season  holiday  workingday  weather  temp   atemp  \\\n",
      "0  2011-01-01 00:00:00       1        0           0        1  9.84  14.395   \n",
      "1  2011-01-01 01:00:00       1        0           0        1  9.02  13.635   \n",
      "2  2011-01-01 02:00:00       1        0           0        1  9.02  13.635   \n",
      "3  2011-01-01 03:00:00       1        0           0        1  9.84  14.395   \n",
      "4  2011-01-01 04:00:00       1        0           0        1  9.84  14.395   \n",
      "\n",
      "   humidity  windspeed  casual  registered  count  \n",
      "0        81        0.0       3          13     16  \n",
      "1        80        0.0       8          32     40  \n",
      "2        80        0.0       5          27     32  \n",
      "3        75        0.0       3          10     13  \n",
      "4        75        0.0       0           1      1  \n",
      "                  datetime  season  holiday  workingday  weather   temp  \\\n",
      "10881  2012-12-19 19:00:00       4        0           1        1  15.58   \n",
      "10882  2012-12-19 20:00:00       4        0           1        1  14.76   \n",
      "10883  2012-12-19 21:00:00       4        0           1        1  13.94   \n",
      "10884  2012-12-19 22:00:00       4        0           1        1  13.94   \n",
      "10885  2012-12-19 23:00:00       4        0           1        1  13.12   \n",
      "\n",
      "        atemp  humidity  windspeed  casual  registered  count  \n",
      "10881  19.695        50    26.0027       7         329    336  \n",
      "10882  17.425        57    15.0013      10         231    241  \n",
      "10883  15.910        61    15.0013       4         164    168  \n",
      "10884  17.425        61     6.0032      12         117    129  \n",
      "10885  16.665        66     8.9981       4          84     88  \n"
     ]
    }
   ],
   "source": [
    "'''\n",
    "1. Data exploration \n",
    "'''\n",
    "print(train.head())\n",
    "print(train.tail())"
   ]
  },
  {
   "cell_type": "code",
   "execution_count": 9,
   "metadata": {},
   "outputs": [
    {
     "name": "stdout",
     "output_type": "stream",
     "text": [
      "<class 'pandas.core.frame.DataFrame'>\n",
      "RangeIndex: 10886 entries, 0 to 10885\n",
      "Data columns (total 12 columns):\n",
      " #   Column      Non-Null Count  Dtype  \n",
      "---  ------      --------------  -----  \n",
      " 0   datetime    10886 non-null  object \n",
      " 1   season      10886 non-null  int64  \n",
      " 2   holiday     10886 non-null  int64  \n",
      " 3   workingday  10886 non-null  int64  \n",
      " 4   weather     10886 non-null  int64  \n",
      " 5   temp        10886 non-null  float64\n",
      " 6   atemp       10886 non-null  float64\n",
      " 7   humidity    10886 non-null  int64  \n",
      " 8   windspeed   10886 non-null  float64\n",
      " 9   casual      10886 non-null  int64  \n",
      " 10  registered  10886 non-null  int64  \n",
      " 11  count       10886 non-null  int64  \n",
      "dtypes: float64(3), int64(8), object(1)\n",
      "memory usage: 1020.7+ KB\n"
     ]
    }
   ],
   "source": [
    "train.info()"
   ]
  },
  {
   "cell_type": "code",
   "execution_count": 24,
   "metadata": {},
   "outputs": [],
   "source": [
    "'''\n",
    "2. Data preprocessing & Visualization\n",
    "'''\n",
    "train['tempDate'] =train.datetime.apply(lambda x:x.split())\n",
    "train['year'] = train.tempDate.apply(lambda x:x[0].split('-')[0])\n",
    "train['month'] = train.tempDate.apply(lambda x:x[0].split('-')[1])\n",
    "train['day'] = train.tempDate.apply(lambda x:x[0].split('-')[2])"
   ]
  },
  {
   "cell_type": "code",
   "execution_count": 25,
   "metadata": {},
   "outputs": [
    {
     "name": "stdout",
     "output_type": "stream",
     "text": [
      "<class 'pandas.core.frame.DataFrame'>\n",
      "RangeIndex: 10886 entries, 0 to 10885\n",
      "Data columns (total 16 columns):\n",
      " #   Column      Non-Null Count  Dtype  \n",
      "---  ------      --------------  -----  \n",
      " 0   datetime    10886 non-null  object \n",
      " 1   season      10886 non-null  int64  \n",
      " 2   holiday     10886 non-null  int64  \n",
      " 3   workingday  10886 non-null  int64  \n",
      " 4   weather     10886 non-null  int64  \n",
      " 5   temp        10886 non-null  float64\n",
      " 6   atemp       10886 non-null  float64\n",
      " 7   humidity    10886 non-null  int64  \n",
      " 8   windspeed   10886 non-null  float64\n",
      " 9   casual      10886 non-null  int64  \n",
      " 10  registered  10886 non-null  int64  \n",
      " 11  count       10886 non-null  int64  \n",
      " 12  tempDate    10886 non-null  object \n",
      " 13  year        10886 non-null  object \n",
      " 14  month       10886 non-null  object \n",
      " 15  day         10886 non-null  object \n",
      "dtypes: float64(3), int64(8), object(5)\n",
      "memory usage: 1.3+ MB\n"
     ]
    }
   ],
   "source": [
    "train.info()"
   ]
  },
  {
   "cell_type": "code",
   "execution_count": null,
   "metadata": {},
   "outputs": [],
   "source": []
  }
 ],
 "metadata": {
  "kernelspec": {
   "display_name": "Python 3",
   "language": "python",
   "name": "python3"
  },
  "language_info": {
   "codemirror_mode": {
    "name": "ipython",
    "version": 3
   },
   "file_extension": ".py",
   "mimetype": "text/x-python",
   "name": "python",
   "nbconvert_exporter": "python",
   "pygments_lexer": "ipython3",
   "version": "3.6.10"
  }
 },
 "nbformat": 4,
 "nbformat_minor": 4
}
